{
 "cells": [
  {
   "cell_type": "code",
   "execution_count": null,
   "id": "ee8be67c",
   "metadata": {},
   "outputs": [],
   "source": [
    "with open('filename.txt', 'w') as f:\n",
    "    f.write(\"\"\"Content that should be present in the text files\"\"\")\n",
    "    f.close()"
   ]
  }
 ],
 "metadata": {
  "kernelspec": {
   "display_name": "Python 3",
   "language": "python",
   "name": "python3"
  },
  "language_info": {
   "codemirror_mode": {
    "name": "ipython",
    "version": 3
   },
   "file_extension": ".py",
   "mimetype": "text/x-python",
   "name": "python",
   "nbconvert_exporter": "python",
   "pygments_lexer": "ipython3",
   "version": "3.6.12"
  }
 },
 "nbformat": 4,
 "nbformat_minor": 5
}
